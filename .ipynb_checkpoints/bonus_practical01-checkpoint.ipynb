{
 "cells": [
  {
   "cell_type": "code",
   "execution_count": 1,
   "id": "aca2e000",
   "metadata": {},
   "outputs": [],
   "source": [
    "# Imports\n",
    "\n",
    "# General\n",
    "import pandas as pd\n",
    "import numpy as np\n",
    "import matplotlib.pyplot as plt\n",
    "from scipy import stats\n",
    "\n",
    "# Sklearn\n",
    "from sklearn.model_selection import train_test_split\n",
    "from sklearn.model_selection import cross_val_score\n",
    "from sklearn.model_selection import KFold\n",
    "from sklearn.ensemble import RandomForestClassifier\n",
    "from sklearn.impute import KNNImputer\n",
    "\n",
    "# Keras\n",
    "import keras\n",
    "from keras.utils import to_categorical\n",
    "from keras.models import Sequential\n",
    "from keras.layers import Dense\n",
    "from keras.wrappers.scikit_learn import KerasClassifier\n",
    "from keras.utils import np_utils\n",
    "from keras.layers import Dropout\n",
    "from keras.layers.normalization import BatchNormalization\n",
    "from keras.optimizers import Adam, SGD, Adadelta\n",
    "from keras.regularizers import L1L2, L2\n",
    "\n",
    "# SMOTE\n",
    "import imblearn\n",
    "from collections import Counter\n",
    "from imblearn.over_sampling import SMOTENC"
   ]
  },
  {
   "cell_type": "code",
   "execution_count": 3,
   "id": "5595d0bb",
   "metadata": {},
   "outputs": [
    {
     "name": "stdout",
     "output_type": "stream",
     "text": [
      "(1593, 2651)\n"
     ]
    }
   ],
   "source": [
    "# Load in the data\n",
    "df = pd.read_csv('./train_data.csv')\n",
    "print(df.shape)\n",
    "\n",
    "# Make boolean columns into integer columns\n",
    "df.replace({False: 0, True: 1}, inplace=True)\n",
    "\n",
    "# Split the data into target labels y and features X\n",
    "num_train = df.select_dtypes(include=np.number)\n",
    "train_y = df.target\n",
    "train_X = df.drop(['target'], axis = 1)\n",
    "\n",
    "# Fill empty values in the train data \n",
    "train_X_columns = train_X.columns\n",
    "train_X = train_X.fillna(-1)\n",
    "\n",
    "# Custom z-score method because scipy caused NaN problems in some columns\n",
    "def z_score(arr):\n",
    "    mean = np.mean(arr, axis = 0)\n",
    "    std = np.std(arr, axis = 0)\n",
    "    std[std == 0] = 1\n",
    "    return (arr-mean)/std\n",
    "\n",
    "\n",
    "def add_gauss_noise(arr, var = 0.1, mu = 0):\n",
    "    row,col= arr.shape\n",
    "    sigma = var**0.5\n",
    "    gauss = np.random.normal(mu,sigma,(row,col))\n",
    "    gauss = gauss.reshape(row,col)\n",
    "    return arr + gauss\n",
    "\n",
    "\n",
    "# Normalize the data using z-score standardization\n",
    "train_X = z_score(train_X.to_numpy(dtype = np.float64)) #.to_numpy(dtype = np.float64)\n",
    "train_df = pd.DataFrame(train_X)"
   ]
  },
  {
   "cell_type": "code",
   "execution_count": 5,
   "id": "949882f7",
   "metadata": {},
   "outputs": [
    {
     "data": {
      "text/plain": [
       "array([[-1.68970364e+00, -2.02631022e+00,  1.57732746e+00, ...,\n",
       "        -8.72301530e-02,  1.36950778e+00, -4.46717192e-01],\n",
       "       [-1.55671590e+00, -4.55929064e-01,  1.29160594e+00, ...,\n",
       "         2.55400966e+00,  1.20845579e+00, -1.43960528e-01],\n",
       "       [-1.89665517e+00, -5.10209010e-02,  5.47264916e-01, ...,\n",
       "        -7.59881362e-01,  1.23738075e+00,  6.05179357e-02],\n",
       "       ...,\n",
       "       [ 1.98056497e+00, -7.06639014e-01,  1.52785752e+00, ...,\n",
       "        -6.32700040e-01,  1.22049083e+00, -5.64888352e-01],\n",
       "       [ 1.70563724e+00, -1.95781635e+00,  1.56265578e-01, ...,\n",
       "        -4.92090825e+00,  6.20935594e-04, -3.02502800e-01],\n",
       "       [ 2.01379528e+00, -1.27265698e+00,  1.02410476e+00, ...,\n",
       "        -7.03241496e-01,  1.98124807e+00, -8.03031747e-01]])"
      ]
     },
     "metadata": {},
     "output_type": "display_data"
    },
    {
     "data": {
      "text/plain": [
       "array([[-1.74945491, -1.68096043,  1.19733109, ..., -0.43697435,\n",
       "         1.24677947, -0.33181567],\n",
       "       [-1.74945491, -0.86619951,  1.19733109, ...,  1.81491955,\n",
       "         1.24677947, -0.44238454],\n",
       "       [-1.73403852, -0.63341067,  0.88485592, ..., -0.43697435,\n",
       "         1.24677947, -0.60034006],\n",
       "       ...,\n",
       "       [ 1.9301415 , -1.21538276,  1.50980626, ..., -0.43697435,\n",
       "         1.24677947, -0.66352227],\n",
       "       [ 1.93106856, -1.79735484, -0.05256958, ..., -4.94076215,\n",
       "         0.29784507, -0.30022457],\n",
       "       [ 1.93842739, -1.44817159,  1.19733109, ..., -0.43697435,\n",
       "         1.24677947, -0.33181567]])"
      ]
     },
     "metadata": {},
     "output_type": "display_data"
    }
   ],
   "source": [
    "train_var_small = add_gauss_noise(train_X)\n",
    "display(train_var_small)\n",
    "display(train_X)\n"
   ]
  },
  {
   "cell_type": "code",
   "execution_count": null,
   "id": "0ebf4fd0",
   "metadata": {},
   "outputs": [],
   "source": [
    "def create_model(input_dim):\n",
    "    # create model\n",
    "    model = Sequential()\n",
    "    \n",
    "    # Use 3 dense layers with relu activation, with batchnormalization and dropout inbetween\n",
    "    model.add(Dense(128, input_dim=input_dim, activation='relu', kernel_initializer = initializer))\n",
    "    model.add(BatchNormalization())\n",
    "    model.add(Dense(64, activation='relu', kernel_initializer = initializer, kernel_regularizer = regularizer)) \n",
    "    model.add(BatchNormalization())\n",
    "    \n",
    "    # Last layer is softmax\n",
    "    model.add(Dense(3, activation='softmax'))\n",
    "    \n",
    "    # SGD optimizer\n",
    "    model.compile(loss='categorical_crossentropy', optimizer=Adam(), metrics=['accuracy'])\n",
    "    return model\n",
    "\n"
   ]
  }
 ],
 "metadata": {
  "kernelspec": {
   "display_name": "Python 3 (ipykernel)",
   "language": "python",
   "name": "python3"
  },
  "language_info": {
   "codemirror_mode": {
    "name": "ipython",
    "version": 3
   },
   "file_extension": ".py",
   "mimetype": "text/x-python",
   "name": "python",
   "nbconvert_exporter": "python",
   "pygments_lexer": "ipython3",
   "version": "3.7.13"
  }
 },
 "nbformat": 4,
 "nbformat_minor": 5
}

{
 "cells": [
  {
   "cell_type": "code",
   "execution_count": 1,
   "id": "e516e10d",
   "metadata": {},
   "outputs": [],
   "source": [
    "# Imports\n",
    "\n",
    "# General\n",
    "import pandas as pd\n",
    "import numpy as np\n",
    "import matplotlib.pyplot as plt\n",
    "from scipy import stats\n",
    "\n",
    "# Sklearn\n",
    "from sklearn.model_selection import train_test_split\n",
    "from sklearn.model_selection import cross_val_score\n",
    "from sklearn.model_selection import KFold\n",
    "from sklearn.ensemble import RandomForestClassifier\n",
    "from sklearn.impute import KNNImputer\n",
    "\n",
    "# Keras\n",
    "import keras\n",
    "from keras.utils import to_categorical\n",
    "from keras.models import Sequential\n",
    "from keras.layers import Dense\n",
    "from keras.wrappers.scikit_learn import KerasClassifier\n",
    "from keras.utils import np_utils\n",
    "from keras.layers import Dropout\n",
    "from keras.layers.normalization import BatchNormalization\n",
    "from keras.optimizers import Adam, SGD, Adadelta\n",
    "from keras.regularizers import L1L2, L2\n",
    "\n",
    "# SMOTE\n",
    "import imblearn\n",
    "from collections import Counter\n",
    "from imblearn.over_sampling import SMOTENC"
   ]
  },
  {
   "cell_type": "code",
   "execution_count": 2,
   "id": "9b61803c",
   "metadata": {},
   "outputs": [],
   "source": [
    "# Use KNN imputation to predict missing values\n",
    "# Except for categorical columns (columns with less than 10 values), which are replaced by mode\n",
    "def fill_empty_2(df):\n",
    "    num_nulls = df.isnull().sum()\n",
    "    has_nulls = num_nulls[num_nulls > 0].to_frame()\n",
    "    num_values = df[has_nulls.index].apply(lambda x: len(x.value_counts()))\n",
    "    categorical_cols = num_values[num_values<=10].to_frame().index\n",
    "    df[categorical_cols] = df[categorical_cols].fillna(df[categorical_cols].mode())\n",
    "    imputer = KNNImputer()\n",
    "    return pd.DataFrame(imputer.fit_transform(df)), categorical_cols"
   ]
  },
  {
   "cell_type": "code",
   "execution_count": 3,
   "id": "689f2a30",
   "metadata": {},
   "outputs": [
    {
     "name": "stdout",
     "output_type": "stream",
     "text": [
      "2    1032\n",
      "1     314\n",
      "0     247\n",
      "Name: target, dtype: int64\n"
     ]
    }
   ],
   "source": [
    "# Load in the data\n",
    "df = pd.read_csv('./train_data.csv')\n",
    "\n",
    "print(df.target.value_counts())\n",
    "\n",
    "# Make boolean columns into integer columns\n",
    "df.replace({False: 0, True: 1}, inplace=True)\n",
    "\n",
    "# Split the data into target labels y and features X\n",
    "num_train = df.select_dtypes(include=np.number)\n",
    "train_y = df.target\n",
    "train_X = df.drop(['target'], axis = 1)\n",
    "\n",
    "# Fill empty values in the train data \n",
    "train_X_columns = train_X.columns\n",
    "train_X, categorical_cols = fill_empty_2(train_X) #train_X.fillna(train_X.mean())\n",
    "\n",
    "# Custom z-score method because scipy caused NaN problems in some columns\n",
    "def z_score(arr):\n",
    "    mean = np.mean(arr, axis = 0)\n",
    "    std = np.std(arr, axis = 0)\n",
    "    std[std == 0] = 1\n",
    "    return (arr-mean)/std\n",
    "\n",
    "# Keep track of which columns might be categorical (calculated in fill_empty_2)\n",
    "col_idx = []\n",
    "for col in categorical_cols:\n",
    "    col_idx.append(train_X_columns.get_loc(col))\n",
    "\n",
    "# Normalize the data using z-score standardization\n",
    "train_X = z_score(train_X.to_numpy(dtype = np.float64)) #.to_numpy(dtype = np.float64)\n",
    "train_df = pd.DataFrame(train_X)"
   ]
  },
  {
   "cell_type": "code",
   "execution_count": 4,
   "id": "b0ed5313",
   "metadata": {},
   "outputs": [],
   "source": [
    "train_X = pd.DataFrame(train_X)\n",
    "\n",
    "# Oversample a little bit for the target values that are underrepresented (e.g. target=0, target=1)\n",
    "smote_nc = SMOTENC(categorical_features=col_idx, random_state=0, sampling_strategy = {1:500, 0:400}, k_neighbors = 5) # categorical_features=col_idx,\n",
    "train_X, train_y = smote_nc.fit_resample(train_X, train_y)"
   ]
  },
  {
   "cell_type": "code",
   "execution_count": 5,
   "id": "6bc11bdd",
   "metadata": {},
   "outputs": [],
   "source": [
    "# Turn y into categorical variable\n",
    "y = to_categorical(train_y, num_classes = 3)\n",
    "input_dim = train_X.shape[1]"
   ]
  },
  {
   "cell_type": "code",
   "execution_count": 6,
   "id": "49db3af9",
   "metadata": {},
   "outputs": [],
   "source": [
    "# Apply randomforestclassifier to find feature importances (based on entropy)\n",
    "# Then feature select on this feature importance\n",
    "train_X = pd.DataFrame(train_X)\n",
    "feature_names = [f\"feature {i}\" for i in range(train_X.shape[1])]\n",
    "forest = RandomForestClassifier(random_state=0, criterion = \"entropy\")\n",
    "col_importances = forest.fit(train_X, train_y).feature_importances_\n",
    "\n",
    "columns = train_X.columns.to_frame()\n",
    "columns['importance'] = col_importances\n",
    "columns.sort_values(by = 'importance', ascending = False)\n",
    "important_cols_names = columns[columns.importance>columns.importance.median()]\n",
    "important_cols = important_cols_names.index\n",
    "\n",
    "train_X = train_X[important_cols]"
   ]
  },
  {
   "cell_type": "code",
   "execution_count": 7,
   "id": "9a7a9e1f",
   "metadata": {},
   "outputs": [],
   "source": [
    "def create_model(input_dim, dropout = 0.5, lr = 1e-2):\n",
    "    # Initialize HE initializers and L2 regularizer\n",
    "    initializer = keras.initializers.HeNormal()\n",
    "    regularizer = L2(0.01)\n",
    "    # create model\n",
    "    model = Sequential()\n",
    "    \n",
    "    # Use 3 dense layers with relu activation, with batchnormalization and dropout inbetween\n",
    "    model.add(Dense(128, input_dim=input_dim, activation='relu', kernel_initializer = initializer))\n",
    "    model.add(BatchNormalization())\n",
    "    model.add(Dropout(dropout))\n",
    "    model.add(Dense(64, activation='relu', kernel_initializer = initializer, kernel_regularizer = regularizer)) \n",
    "    model.add(BatchNormalization())\n",
    "    model.add(Dropout(dropout))\n",
    "    model.add(Dense(64, activation='relu', kernel_initializer = initializer, kernel_regularizer = regularizer))\n",
    "    model.add(BatchNormalization())\n",
    "    model.add(Dropout(dropout))\n",
    "    \n",
    "    # Last layer is softmax\n",
    "    model.add(Dense(3, activation='softmax'))\n",
    "    \n",
    "    # SGD optimizer\n",
    "    model.compile(loss='categorical_crossentropy', optimizer=SGD(learning_rate=lr, momentum = 0.9, nesterov=True), metrics=['accuracy'])\n",
    "    return model\n",
    "\n",
    "def avg(arr):\n",
    "    return sum(arr)/len(arr)\n"
   ]
  },
  {
   "cell_type": "code",
   "execution_count": 8,
   "id": "8b0fb03a",
   "metadata": {
    "scrolled": false
   },
   "outputs": [
    {
     "data": {
      "image/png": "[encoded data removed]",
      "text/plain": [
       "<Figure size 1440x576 with 2 Axes>"
      ]
     },
     "metadata": {
      "needs_background": "light"
     },
     "output_type": "display_data"
    },
    {
     "name": "stdout",
     "output_type": "stream",
     "text": [
      "Train accuracy:\t\t\t0.87\tTrain loss: 0.46\n",
      "Validation accuracy:\t\t0.86\tValidation loss: 0.50\n",
      "Best validation accuracy:\t0.89 (epoch 44)\n",
      "Best validation loss:\t\t0.45 (epoch 32)\n"
     ]
    },
    {
     "data": {
      "text/plain": [
       "0.8888888955116272"
      ]
     },
     "execution_count": 8,
     "metadata": {},
     "output_type": "execute_result"
    }
   ],
   "source": [
    "from sklearn.model_selection import StratifiedKFold\n",
    "def train_network(model, X_train, y_train, X_val, y_val, best_val_acc = 0, plot = True,\n",
    "                  n_epochs = 10, batch_size = 32, verbose = 1, save = False, path = 'best_model'):\n",
    "\n",
    "    train_losses = []\n",
    "    train_accs = []\n",
    "    val_losses = []\n",
    "    val_accs = []\n",
    "\n",
    "    best_val_acc = best_val_acc\n",
    "    best_val_loss = 1\n",
    "    best_acc_epoch = 0\n",
    "    best_loss_epoch = 0\n",
    "\n",
    "    # Loop over epochs\n",
    "    for epoch in range(n_epochs):\n",
    "\n",
    "        # Train model\n",
    "        results = model.fit(X_train, y_train, batch_size = batch_size, verbose = verbose)\n",
    "\n",
    "        # Get training loss and accuracy and append to lists\n",
    "        train_losses.append(results.history['loss'])\n",
    "        train_accs.append(results.history['accuracy'])\n",
    "\n",
    "        # Get performance (i.e. loss and accuracy) on validation set\n",
    "        val_loss, val_acc = model.evaluate(X_val, y_val, verbose = verbose)\n",
    "\n",
    "        # Append to lists\n",
    "        val_losses.append(val_loss)\n",
    "        val_accs.append(val_acc)\n",
    "\n",
    "        # Keep track of which epoch had the best validation accuracy and store the corresponding model\n",
    "        if val_acc > best_val_acc:\n",
    "            best_val_acc = val_acc\n",
    "            best_acc_epoch = epoch\n",
    "            if save:\n",
    "                model.save(path)\n",
    "        if val_loss < best_val_loss:\n",
    "            best_val_loss = val_loss\n",
    "            best_loss_epoch = epoch\n",
    "\n",
    "    # Visualise the performance of the model for the epochs\n",
    "    if plot:\n",
    "        fig, ax = plt.subplots(1, 2, figsize=(20, 8))\n",
    "        ax[0].plot(train_losses) \n",
    "        ax[1].plot(train_accs)\n",
    "        ax[0].plot(val_losses)\n",
    "        ax[1].plot(val_accs)\n",
    "\n",
    "        # Text and legend for the plot\n",
    "        ax[0].legend(['train loss', 'validation loss'],\n",
    "                  loc='upper right', bbox_to_anchor=(1,1))\n",
    "        ax[1].legend(['train accuracy', 'validation accuracy'],\n",
    "                  loc='lower right', bbox_to_anchor=(1,0))\n",
    "        ax[0].set_xlabel('epoch')\n",
    "        ax[0].set_ylabel('loss')\n",
    "        ax[0].set_title('Model performance (loss)')\n",
    "        \n",
    "        ax[1].set_xlabel('epoch')\n",
    "        ax[1].set_ylabel('accuracy')\n",
    "        ax[1].set_title('Model performance (accuracy)')\n",
    "\n",
    "        plt.show()\n",
    "\n",
    "    # Print the performance values (accuracies, loss) for train, validation\n",
    "    print('Train accuracy:\\t\\t\\t{:.2f}\\tTrain loss: {:.2f}'.format(train_accs[-1][0], train_losses[-1][0]))\n",
    "    print('Validation accuracy:\\t\\t{:.2f}\\tValidation loss: {:.2f}'.format(val_accs[-1], val_losses[-1]))\n",
    "    print('Best validation accuracy:\\t{:.2f} (epoch {:})'.format(best_val_acc, best_acc_epoch))\n",
    "    print('Best validation loss:\\t\\t{:.2f} (epoch {:})'.format(best_val_loss, best_loss_epoch))\n",
    "    \n",
    "    return best_val_acc\n",
    "        \n",
    "\n",
    "\n",
    "# Make a 80/20 train-test split and create the model\n",
    "X_train, X_val, y_train, y_val = train_test_split(train_X, y, stratify = y, test_size=0.2, shuffle = True)\n",
    "model = create_model(train_X.shape[1])\n",
    "\n",
    "# Train the model\n",
    "save = False\n",
    "train_network(model, X_train, y_train, X_val, y_val, n_epochs = 50, batch_size = 32, verbose = 0, save = save)"
   ]
  },
  {
   "cell_type": "code",
   "execution_count": 9,
   "id": "acb81b93",
   "metadata": {},
   "outputs": [
    {
     "name": "stdout",
     "output_type": "stream",
     "text": [
      "[2 2 2 2 2 2 0 2 1 2 2 1 2 2 2 2 2 2 2 1 1 2 2 2 2 2 2 2 1 1 1 1 1 1 1 1 1\n",
      " 1 1 1 1 1 1 1 1 1 1 1 1 2 2 2 2 2 2 2 2 2 2 0 2 1 2 0 0 0 0 0 2 2 2 2 2 2\n",
      " 2 2 2 2 2 2 2 2 2 0 2 0 2 2 2 2 2 2 2 2 2 2 2 2 2 2 2 2 2 2 2 2 2 2 2 2 2\n",
      " 2 2 2 2 0 0 2 2 2 2 2 2 2 2 2 2 2 2 1 2 1 1 2 2 2 2 2 2 2 2 2 2 2 2 2 2 2\n",
      " 1 1 1 1 1 1 1 2 2 2 2 2 2 2 2 2 2 2 2 2 2 2 2 2 2 2 2 2 2 1 1 0 0 1 0 0 0\n",
      " 1 0 0]\n"
     ]
    }
   ],
   "source": [
    "# Create prediction dataset\n",
    "from tensorflow import keras\n",
    "if save:\n",
    "    model = keras.models.load_model('best_model')\n",
    "naming_cols = ['opportunity_id', 'current_date_day', 'current_date_month', 'current_date_year']\n",
    "test_df = pd.read_csv('./data2tal_testupload.csv')\n",
    "index_names = pd.read_csv('./check_upload_kaggle.csv')\n",
    "\n",
    "# Reset test set columns to numerical \n",
    "test_df.columns = list(range(test_df.shape[1]))\n",
    "# Filter test set to importand columns (which are numerical)\n",
    "test_df = test_df[important_cols]\n",
    "\n",
    "train_X_df = pd.DataFrame(train_X)\n",
    "\n",
    "# Reset column names of train and test set so they can be concatenated \n",
    "train_X_df.columns = list(range(train_X_df.shape[1]))\n",
    "test_df.columns = list(range(train_X_df.shape[1]))\n",
    "fused = pd.concat([test_df, train_X_df])\n",
    "\n",
    "# Impute missing values in the test set\n",
    "# Train and test are concatenated so there is some reference for fully empty columns for how to impute them\n",
    "# Then, get back the first 188 rows (= test set)\n",
    "imputer = KNNImputer()\n",
    "filled_fused = imputer.fit_transform(fused)[:188]\n",
    "filled_fused = z_score(filled_fused)\n",
    "\n",
    "# Predict on the imputed test set\n",
    "pred = model.predict(filled_fused)\n",
    "pred_target = np.argmax(pred, axis = 1)\n",
    "print(pred_target)\n",
    "\n",
    "# Create dataframe, using index column from 'check_upload_kaggle.csv' and predictions (see above) as target column\n",
    "df_pred = pd.DataFrame([])\n",
    "df_pred['index'] = index_names['index']\n",
    "df_pred['target'] = pred_target\n",
    "\n",
    "# Save as a .csv\n",
    "df_pred.to_csv('./prediction.csv', index = False)"
   ]
  },
  {
   "cell_type": "code",
   "execution_count": null,
   "id": "69a77678",
   "metadata": {},
   "outputs": [],
   "source": []
  }
 ],
 "metadata": {
  "kernelspec": {
   "display_name": "Python 3 (ipykernel)",
   "language": "python",
   "name": "python3"
  },
  "language_info": {
   "codemirror_mode": {
    "name": "ipython",
    "version": 3
   },
   "file_extension": ".py",
   "mimetype": "text/x-python",
   "name": "python",
   "nbconvert_exporter": "python",
   "pygments_lexer": "ipython3",
   "version": "3.7.13"
  }
 },
 "nbformat": 4,
 "nbformat_minor": 5
}
